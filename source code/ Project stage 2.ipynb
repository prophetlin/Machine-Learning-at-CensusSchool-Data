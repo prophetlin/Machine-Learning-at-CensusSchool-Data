{
 "cells": [
  {
   "cell_type": "code",
   "execution_count": 52,
   "metadata": {},
   "outputs": [
    {
     "data": {
      "text/html": [
       "<div>\n",
       "<style scoped>\n",
       "    .dataframe tbody tr th:only-of-type {\n",
       "        vertical-align: middle;\n",
       "    }\n",
       "\n",
       "    .dataframe tbody tr th {\n",
       "        vertical-align: top;\n",
       "    }\n",
       "\n",
       "    .dataframe thead tr th {\n",
       "        text-align: left;\n",
       "    }\n",
       "\n",
       "    .dataframe thead tr:last-of-type th {\n",
       "        text-align: right;\n",
       "    }\n",
       "</style>\n",
       "<table border=\"1\" class=\"dataframe\">\n",
       "  <thead>\n",
       "    <tr>\n",
       "      <th></th>\n",
       "      <th>mean</th>\n",
       "      <th>len</th>\n",
       "      <th>median</th>\n",
       "    </tr>\n",
       "    <tr>\n",
       "      <th></th>\n",
       "      <th>Height</th>\n",
       "      <th>Height</th>\n",
       "      <th>Height</th>\n",
       "    </tr>\n",
       "    <tr>\n",
       "      <th>Year</th>\n",
       "      <th></th>\n",
       "      <th></th>\n",
       "      <th></th>\n",
       "    </tr>\n",
       "  </thead>\n",
       "  <tbody>\n",
       "    <tr>\n",
       "      <th>4</th>\n",
       "      <td>129.500000</td>\n",
       "      <td>6.0</td>\n",
       "      <td>134.0</td>\n",
       "    </tr>\n",
       "    <tr>\n",
       "      <th>5</th>\n",
       "      <td>139.682692</td>\n",
       "      <td>104.0</td>\n",
       "      <td>138.5</td>\n",
       "    </tr>\n",
       "    <tr>\n",
       "      <th>6</th>\n",
       "      <td>145.094118</td>\n",
       "      <td>85.0</td>\n",
       "      <td>145.0</td>\n",
       "    </tr>\n",
       "    <tr>\n",
       "      <th>7</th>\n",
       "      <td>149.459016</td>\n",
       "      <td>122.0</td>\n",
       "      <td>150.5</td>\n",
       "    </tr>\n",
       "    <tr>\n",
       "      <th>8</th>\n",
       "      <td>156.787402</td>\n",
       "      <td>127.0</td>\n",
       "      <td>157.0</td>\n",
       "    </tr>\n",
       "    <tr>\n",
       "      <th>9</th>\n",
       "      <td>162.361582</td>\n",
       "      <td>177.0</td>\n",
       "      <td>163.0</td>\n",
       "    </tr>\n",
       "    <tr>\n",
       "      <th>10</th>\n",
       "      <td>165.145985</td>\n",
       "      <td>137.0</td>\n",
       "      <td>165.0</td>\n",
       "    </tr>\n",
       "    <tr>\n",
       "      <th>11</th>\n",
       "      <td>168.724138</td>\n",
       "      <td>58.0</td>\n",
       "      <td>169.0</td>\n",
       "    </tr>\n",
       "    <tr>\n",
       "      <th>12</th>\n",
       "      <td>175.916667</td>\n",
       "      <td>24.0</td>\n",
       "      <td>176.0</td>\n",
       "    </tr>\n",
       "    <tr>\n",
       "      <th>13</th>\n",
       "      <td>170.500000</td>\n",
       "      <td>16.0</td>\n",
       "      <td>172.0</td>\n",
       "    </tr>\n",
       "  </tbody>\n",
       "</table>\n",
       "</div>"
      ],
      "text/plain": [
       "            mean    len median\n",
       "          Height Height Height\n",
       "Year                          \n",
       "4     129.500000    6.0  134.0\n",
       "5     139.682692  104.0  138.5\n",
       "6     145.094118   85.0  145.0\n",
       "7     149.459016  122.0  150.5\n",
       "8     156.787402  127.0  157.0\n",
       "9     162.361582  177.0  163.0\n",
       "10    165.145985  137.0  165.0\n",
       "11    168.724138   58.0  169.0\n",
       "12    175.916667   24.0  176.0\n",
       "13    170.500000   16.0  172.0"
      ]
     },
     "execution_count": 52,
     "metadata": {},
     "output_type": "execute_result"
    }
   ],
   "source": [
    "#Part 1: Analysis and Results\n",
    "\n",
    "import pandas as pd \n",
    "import matplotlib.pyplot as plt\n",
    "import numpy as np  \n",
    "# making data frame from csv file \n",
    "data = pd.read_csv(\"/Users/linenzheng/Desktop/cleaned data/clean1.csv\") \n",
    "  \n",
    "# removing null values \n",
    "data.dropna(inplace = True) \n",
    "  \n",
    "# extracting greatest 5 \n",
    "large1 = data.nlargest(10, \"Height\") \n",
    "  \n",
    "# display \n",
    "large1 \n",
    "data[\"Gender\"] = data[\"Gender\"].astype(\"category\")\n",
    "data[\"Gender\"].cat.set_categories([\"female\",\"male\"],inplace=True)\n",
    "pd.pivot_table(data,index=[\"Handedness\",\"Gender\"],aggfunc=[len])\n",
    "pd.pivot_table(data,index=[\"Gender\"],values=[\"Height\"],aggfunc=[np.mean,len,np.median])\n",
    "pd.pivot_table(data,index=[\"Year\"],values=[\"Height\"],aggfunc=[np.mean,len,np.median])\n",
    "\n"
   ]
  },
  {
   "cell_type": "code",
   "execution_count": 55,
   "metadata": {},
   "outputs": [
    {
     "data": {
      "text/html": [
       "<div>\n",
       "<style scoped>\n",
       "    .dataframe tbody tr th:only-of-type {\n",
       "        vertical-align: middle;\n",
       "    }\n",
       "\n",
       "    .dataframe tbody tr th {\n",
       "        vertical-align: top;\n",
       "    }\n",
       "\n",
       "    .dataframe thead tr th {\n",
       "        text-align: left;\n",
       "    }\n",
       "\n",
       "    .dataframe thead tr:last-of-type th {\n",
       "        text-align: right;\n",
       "    }\n",
       "</style>\n",
       "<table border=\"1\" class=\"dataframe\">\n",
       "  <thead>\n",
       "    <tr>\n",
       "      <th></th>\n",
       "      <th>mean</th>\n",
       "      <th>len</th>\n",
       "      <th>median</th>\n",
       "    </tr>\n",
       "    <tr>\n",
       "      <th></th>\n",
       "      <th>Height</th>\n",
       "      <th>Height</th>\n",
       "      <th>Height</th>\n",
       "    </tr>\n",
       "    <tr>\n",
       "      <th>ClassGrade</th>\n",
       "      <th></th>\n",
       "      <th></th>\n",
       "      <th></th>\n",
       "    </tr>\n",
       "  </thead>\n",
       "  <tbody>\n",
       "    <tr>\n",
       "      <th>4</th>\n",
       "      <td>144.714286</td>\n",
       "      <td>7</td>\n",
       "      <td>142.0</td>\n",
       "    </tr>\n",
       "    <tr>\n",
       "      <th>5</th>\n",
       "      <td>147.888889</td>\n",
       "      <td>9</td>\n",
       "      <td>148.0</td>\n",
       "    </tr>\n",
       "    <tr>\n",
       "      <th>6</th>\n",
       "      <td>144.366667</td>\n",
       "      <td>30</td>\n",
       "      <td>150.5</td>\n",
       "    </tr>\n",
       "    <tr>\n",
       "      <th>7</th>\n",
       "      <td>138.210526</td>\n",
       "      <td>19</td>\n",
       "      <td>162.0</td>\n",
       "    </tr>\n",
       "    <tr>\n",
       "      <th>8</th>\n",
       "      <td>160.909091</td>\n",
       "      <td>22</td>\n",
       "      <td>165.0</td>\n",
       "    </tr>\n",
       "    <tr>\n",
       "      <th>9</th>\n",
       "      <td>137.125000</td>\n",
       "      <td>16</td>\n",
       "      <td>159.0</td>\n",
       "    </tr>\n",
       "    <tr>\n",
       "      <th>10</th>\n",
       "      <td>168.157895</td>\n",
       "      <td>19</td>\n",
       "      <td>165.0</td>\n",
       "    </tr>\n",
       "    <tr>\n",
       "      <th>11</th>\n",
       "      <td>165.560976</td>\n",
       "      <td>41</td>\n",
       "      <td>168.0</td>\n",
       "    </tr>\n",
       "    <tr>\n",
       "      <th>12</th>\n",
       "      <td>164.834483</td>\n",
       "      <td>145</td>\n",
       "      <td>168.0</td>\n",
       "    </tr>\n",
       "  </tbody>\n",
       "</table>\n",
       "</div>"
      ],
      "text/plain": [
       "                  mean    len median\n",
       "                Height Height Height\n",
       "ClassGrade                          \n",
       "4           144.714286      7  142.0\n",
       "5           147.888889      9  148.0\n",
       "6           144.366667     30  150.5\n",
       "7           138.210526     19  162.0\n",
       "8           160.909091     22  165.0\n",
       "9           137.125000     16  159.0\n",
       "10          168.157895     19  165.0\n",
       "11          165.560976     41  168.0\n",
       "12          164.834483    145  168.0"
      ]
     },
     "execution_count": 55,
     "metadata": {},
     "output_type": "execute_result"
    }
   ],
   "source": [
    "#Part 1: Analysis and Results\n",
    "# importing pandas package \n",
    "\n",
    "import pandas as pd \n",
    "  \n",
    "# making data frame from csv file \n",
    "data = pd.read_csv(\"/Users/linenzheng/Desktop/cleaned data/clean2.csv\") \n",
    "  \n",
    "# removing null values \n",
    "data.dropna(inplace = True) \n",
    "  \n",
    "# extracting greatest 5 \n",
    "large2 = data.nlargest(10, \"Height\") \n",
    "  \n",
    "# display \n",
    "large2 \n",
    "\n",
    "pd.pivot_table(data,index=[\"Handed\",\"Gender\"],aggfunc=[len])\n",
    "pd.pivot_table(data,index=[\"Gender\"],values=[\"Height\"],aggfunc=[np.mean,len,np.median])\n",
    "pd.pivot_table(data,index=[\"ClassGrade\"],values=[\"Height\"],aggfunc=[np.mean,len,np.median])"
   ]
  },
  {
   "cell_type": "code",
   "execution_count": 58,
   "metadata": {},
   "outputs": [
    {
     "data": {
      "text/html": [
       "<div>\n",
       "<style scoped>\n",
       "    .dataframe tbody tr th:only-of-type {\n",
       "        vertical-align: middle;\n",
       "    }\n",
       "\n",
       "    .dataframe tbody tr th {\n",
       "        vertical-align: top;\n",
       "    }\n",
       "\n",
       "    .dataframe thead tr th {\n",
       "        text-align: left;\n",
       "    }\n",
       "\n",
       "    .dataframe thead tr:last-of-type th {\n",
       "        text-align: right;\n",
       "    }\n",
       "</style>\n",
       "<table border=\"1\" class=\"dataframe\">\n",
       "  <thead>\n",
       "    <tr>\n",
       "      <th></th>\n",
       "      <th>mean</th>\n",
       "      <th>len</th>\n",
       "      <th>median</th>\n",
       "    </tr>\n",
       "    <tr>\n",
       "      <th></th>\n",
       "      <th>Height</th>\n",
       "      <th>Height</th>\n",
       "      <th>Height</th>\n",
       "    </tr>\n",
       "    <tr>\n",
       "      <th>Ageyears</th>\n",
       "      <th></th>\n",
       "      <th></th>\n",
       "      <th></th>\n",
       "    </tr>\n",
       "  </thead>\n",
       "  <tbody>\n",
       "    <tr>\n",
       "      <th>5</th>\n",
       "      <td>134.000000</td>\n",
       "      <td>1</td>\n",
       "      <td>134.0</td>\n",
       "    </tr>\n",
       "    <tr>\n",
       "      <th>6</th>\n",
       "      <td>150.250000</td>\n",
       "      <td>4</td>\n",
       "      <td>152.5</td>\n",
       "    </tr>\n",
       "    <tr>\n",
       "      <th>8</th>\n",
       "      <td>141.333333</td>\n",
       "      <td>3</td>\n",
       "      <td>137.0</td>\n",
       "    </tr>\n",
       "    <tr>\n",
       "      <th>9</th>\n",
       "      <td>139.285714</td>\n",
       "      <td>28</td>\n",
       "      <td>137.5</td>\n",
       "    </tr>\n",
       "    <tr>\n",
       "      <th>10</th>\n",
       "      <td>140.534483</td>\n",
       "      <td>58</td>\n",
       "      <td>141.0</td>\n",
       "    </tr>\n",
       "    <tr>\n",
       "      <th>11</th>\n",
       "      <td>147.308511</td>\n",
       "      <td>94</td>\n",
       "      <td>147.0</td>\n",
       "    </tr>\n",
       "    <tr>\n",
       "      <th>12</th>\n",
       "      <td>153.700000</td>\n",
       "      <td>170</td>\n",
       "      <td>154.0</td>\n",
       "    </tr>\n",
       "    <tr>\n",
       "      <th>13</th>\n",
       "      <td>159.326271</td>\n",
       "      <td>236</td>\n",
       "      <td>160.0</td>\n",
       "    </tr>\n",
       "    <tr>\n",
       "      <th>14</th>\n",
       "      <td>164.562500</td>\n",
       "      <td>160</td>\n",
       "      <td>164.0</td>\n",
       "    </tr>\n",
       "    <tr>\n",
       "      <th>15</th>\n",
       "      <td>165.098592</td>\n",
       "      <td>71</td>\n",
       "      <td>166.0</td>\n",
       "    </tr>\n",
       "    <tr>\n",
       "      <th>16</th>\n",
       "      <td>166.028571</td>\n",
       "      <td>35</td>\n",
       "      <td>167.0</td>\n",
       "    </tr>\n",
       "    <tr>\n",
       "      <th>17</th>\n",
       "      <td>172.950617</td>\n",
       "      <td>81</td>\n",
       "      <td>174.0</td>\n",
       "    </tr>\n",
       "    <tr>\n",
       "      <th>18</th>\n",
       "      <td>173.555556</td>\n",
       "      <td>45</td>\n",
       "      <td>173.0</td>\n",
       "    </tr>\n",
       "    <tr>\n",
       "      <th>19</th>\n",
       "      <td>178.750000</td>\n",
       "      <td>8</td>\n",
       "      <td>179.0</td>\n",
       "    </tr>\n",
       "    <tr>\n",
       "      <th>20</th>\n",
       "      <td>183.500000</td>\n",
       "      <td>2</td>\n",
       "      <td>183.5</td>\n",
       "    </tr>\n",
       "    <tr>\n",
       "      <th>21</th>\n",
       "      <td>183.000000</td>\n",
       "      <td>1</td>\n",
       "      <td>183.0</td>\n",
       "    </tr>\n",
       "  </tbody>\n",
       "</table>\n",
       "</div>"
      ],
      "text/plain": [
       "                mean    len median\n",
       "              Height Height Height\n",
       "Ageyears                          \n",
       "5         134.000000      1  134.0\n",
       "6         150.250000      4  152.5\n",
       "8         141.333333      3  137.0\n",
       "9         139.285714     28  137.5\n",
       "10        140.534483     58  141.0\n",
       "11        147.308511     94  147.0\n",
       "12        153.700000    170  154.0\n",
       "13        159.326271    236  160.0\n",
       "14        164.562500    160  164.0\n",
       "15        165.098592     71  166.0\n",
       "16        166.028571     35  167.0\n",
       "17        172.950617     81  174.0\n",
       "18        173.555556     45  173.0\n",
       "19        178.750000      8  179.0\n",
       "20        183.500000      2  183.5\n",
       "21        183.000000      1  183.0"
      ]
     },
     "execution_count": 58,
     "metadata": {},
     "output_type": "execute_result"
    }
   ],
   "source": [
    "#Part 1: Analysis and Results\n",
    "import pandas as pd \n",
    "  \n",
    "# making data frame from csv file \n",
    "data = pd.read_csv(\"/Users/linenzheng/Desktop/cleaned data/clean3.csv\") \n",
    "  \n",
    "# removing null values \n",
    "data.dropna(inplace = True) \n",
    "  \n",
    "# extracting greatest 5 \n",
    "large3 = data.nlargest(10, \"Height\") \n",
    "  \n",
    "# display \n",
    "large3 \n",
    "pd.pivot_table(data,index=[\"Handed\",\"Gender\"],aggfunc=[len])\n",
    "pd.pivot_table(data,index=[\"Gender\"],values=[\"Height\"],aggfunc=[np.mean,len,np.median])\n",
    "pd.pivot_table(data,index=[\"Ageyears\"],values=[\"Height\"],aggfunc=[np.mean,len,np.median])\n"
   ]
  },
  {
   "cell_type": "code",
   "execution_count": 60,
   "metadata": {},
   "outputs": [
    {
     "data": {
      "image/png": "[encoded data removed]",
      "text/plain": [
       "<Figure size 432x288 with 1 Axes>"
      ]
     },
     "metadata": {
      "needs_background": "light"
     },
     "output_type": "display_data"
    }
   ],
   "source": [
    "#Part 2: Methodology of Analysis \n",
    "# Step 1 - Make a scatter plot with square markers, set column names as labels\n",
    "\n",
    "def heatmap(x, y, size):\n",
    "    fig, ax = plt.subplots()\n",
    "    \n",
    "    # Mapping from column names to integer coordinates\n",
    "    x_labels = [v for v in sorted(x.unique())]\n",
    "    y_labels = [v for v in sorted(y.unique())]\n",
    "    x_to_num = {p[1]:p[0] for p in enumerate(x_labels)} \n",
    "    y_to_num = {p[1]:p[0] for p in enumerate(y_labels)} \n",
    "    \n",
    "    size_scale = 500\n",
    "    ax.scatter(\n",
    "        x=x.map(x_to_num), # Use mapping for x\n",
    "        y=y.map(y_to_num), # Use mapping for y\n",
    "        s=size * size_scale, # Vector of square sizes, proportional to size parameter\n",
    "        marker='s' # Use square as scatterplot marker\n",
    "    )\n",
    "    \n",
    "    # Show column labels on the axes\n",
    "    ax.set_xticks([x_to_num[v] for v in x_labels])\n",
    "    ax.set_xticklabels(x_labels, rotation=45, horizontalalignment='right')\n",
    "    ax.set_yticks([y_to_num[v] for v in y_labels])\n",
    "    ax.set_yticklabels(y_labels)\n",
    "    \n",
    "data = pd.read_csv(\"/Users/linenzheng/Desktop/cleaned data/clean1.csv\")\n",
    "columns = ['Year', 'Gender','Ageyears','Country','Languages_spoken','Handedness','Height', 'Foot_Length','Travel method to school'] \n",
    "corr = data[columns].corr()\n",
    "corr = pd.melt(corr.reset_index(), id_vars='index') # Unpivot the dataframe, so we can get pair of arrays for x and y\n",
    "corr.columns = ['x', 'y', 'value']\n",
    "heatmap(\n",
    "    x=corr['x'],\n",
    "    y=corr['y'],\n",
    "    size=corr['value'].abs()\n",
    ")"
   ]
  },
  {
   "cell_type": "code",
   "execution_count": 65,
   "metadata": {},
   "outputs": [
    {
     "data": {
      "image/png": "[encoded data removed]",
      "text/plain": [
       "<Figure size 432x288 with 1 Axes>"
      ]
     },
     "metadata": {
      "needs_background": "light"
     },
     "output_type": "display_data"
    }
   ],
   "source": [
    "#Part 2: Methodology of Analysis \n",
    "# Step 1 - Make a scatter plot with square markers, set column names as labels\n",
    "\n",
    "def heatmap(x, y, size):\n",
    "    fig, ax = plt.subplots()\n",
    "    \n",
    "    # Mapping from column names to integer coordinates\n",
    "    x_labels = [v for v in sorted(x.unique())]\n",
    "    y_labels = [v for v in sorted(y.unique())]\n",
    "    x_to_num = {p[1]:p[0] for p in enumerate(x_labels)} \n",
    "    y_to_num = {p[1]:p[0] for p in enumerate(y_labels)} \n",
    "    \n",
    "    size_scale = 500\n",
    "    ax.scatter(\n",
    "        x=x.map(x_to_num), # Use mapping for x\n",
    "        y=y.map(y_to_num), # Use mapping for y\n",
    "        s=size * size_scale, # Vector of square sizes, proportional to size parameter\n",
    "        marker='s' # Use square as scatterplot marker\n",
    "    )\n",
    "    \n",
    "    # Show column labels on the axes\n",
    "    ax.set_xticks([x_to_num[v] for v in x_labels])\n",
    "    ax.set_xticklabels(x_labels, rotation=45, horizontalalignment='right')\n",
    "    ax.set_yticks([y_to_num[v] for v in y_labels])\n",
    "    ax.set_yticklabels(y_labels)\n",
    "    \n",
    "data = pd.read_csv(\"/Users/linenzheng/Desktop/cleaned data/clean2.csv\")\n",
    "columns = ['ClassGrade','Ageyears','Country','Handed','Height', 'Footlength_cm','Armspan_cm','Languages_spoken'] \n",
    "corr = data[columns].corr()\n",
    "corr = pd.melt(corr.reset_index(), id_vars='index') # Unpivot the dataframe, so we can get pair of arrays for x and y\n",
    "corr.columns = ['x', 'y', 'value']\n",
    "heatmap(\n",
    "    x=corr['x'],\n",
    "    y=corr['y'],\n",
    "    size=corr['value'].abs()\n",
    ")"
   ]
  },
  {
   "cell_type": "code",
   "execution_count": 81,
   "metadata": {},
   "outputs": [
    {
     "data": {
      "image/png": "[encoded data removed]",
      "text/plain": [
       "<Figure size 432x288 with 1 Axes>"
      ]
     },
     "metadata": {
      "needs_background": "light"
     },
     "output_type": "display_data"
    }
   ],
   "source": [
    "#Part 2: Methodology of Analysis \n",
    "# Step 1 - Make a scatter plot with square markers, set column names as labels\n",
    "\n",
    "def heatmap(x, y, size):\n",
    "    fig, ax = plt.subplots()\n",
    "    \n",
    "    # Mapping from column names to integer coordinates\n",
    "    x_labels = [v for v in sorted(x.unique())]\n",
    "    y_labels = [v for v in sorted(y.unique())]\n",
    "    x_to_num = {p[1]:p[0] for p in enumerate(x_labels)} \n",
    "    y_to_num = {p[1]:p[0] for p in enumerate(y_labels)} \n",
    "    \n",
    "    size_scale = 500\n",
    "    ax.scatter(\n",
    "        x=x.map(x_to_num), # Use mapping for x\n",
    "        y=y.map(y_to_num), # Use mapping for y\n",
    "        s=size * size_scale, # Vector of square sizes, proportional to size parameter\n",
    "        marker='s' # Use square as scatterplot marker\n",
    "    )\n",
    "    \n",
    "    # Show column labels on the axes\n",
    "    ax.set_xticks([x_to_num[v] for v in x_labels])\n",
    "    ax.set_xticklabels(x_labels, rotation=45, horizontalalignment='right')\n",
    "    ax.set_yticks([y_to_num[v] for v in y_labels])\n",
    "    ax.set_yticklabels(y_labels)\n",
    "    \n",
    "data = pd.read_csv(\"/Users/linenzheng/Desktop/cleaned data/clean3.csv\")\n",
    "columns = ['Ageyears','Country','Handed','Height', 'Foot_Length','Arm_Span','Languages_spoken'] \n",
    "corr = data[columns].corr()\n",
    "corr = pd.melt(corr.reset_index(), id_vars='index') # Unpivot the dataframe, so we can get pair of arrays for x and y\n",
    "corr.columns = ['x', 'y', 'value']\n",
    "heatmap(\n",
    "    x=corr['x'],\n",
    "    y=corr['y'],\n",
    "    size=corr['value'].abs()\n",
    ")"
   ]
  },
  {
   "cell_type": "code",
   "execution_count": 84,
   "metadata": {},
   "outputs": [
    {
     "data": {
      "image/png": "[encoded data removed]",
      "text/plain": [
       "<Figure size 432x288 with 1 Axes>"
      ]
     },
     "metadata": {
      "needs_background": "light"
     },
     "output_type": "display_data"
    }
   ],
   "source": [
    "#Part 2: Methodology of Analysis \n",
    "import pandas as pd\n",
    "import matplotlib.pyplot as plt\n",
    "\n",
    "df = pd.read_csv('/Users/linenzheng/Desktop/cleaned data/clean1.csv')\n",
    "females = df[df['Gender'] == 'female']\n",
    "males = df[df['Gender'] == 'male']\n",
    "f_armspan_length = females.values[:, 7]\n",
    "f_heights = females.values[:, 6]\n",
    "m_armspan_length = males.values[:, 7]\n",
    "m_heights = males.values[:, 6]\n",
    "\n",
    "plt.scatter(f_armspan_length, f_heights, color='#e9a3c9', marker='o', label='Female')\n",
    "plt.scatter(m_armspan_length, m_heights, color='#91bfdb', marker='x', label='Male')\n",
    "plt.title('armspan_length and height from our student data')\n",
    "plt.xlabel('armspan_length (cm)')\n",
    "plt.ylabel('Height (cm)')\n",
    "plt.legend(loc='lower right')\n",
    "plt.show()"
   ]
  },
  {
   "cell_type": "code",
   "execution_count": 88,
   "metadata": {},
   "outputs": [
    {
     "data": {
      "image/png": "[encoded data removed]",
      "text/plain": [
       "<Figure size 432x288 with 1 Axes>"
      ]
     },
     "metadata": {
      "needs_background": "light"
     },
     "output_type": "display_data"
    }
   ],
   "source": [
    "#Part 2: Methodology of Analysis \n",
    "import pandas as pd\n",
    "import matplotlib.pyplot as plt\n",
    "\n",
    "df = pd.read_csv('/Users/linenzheng/Desktop/cleaned data/clean2.csv')\n",
    "females = df[df['Gender'] == 'Female']\n",
    "males = df[df['Gender'] == 'Male']\n",
    "f_armspan_length = females.values[:, 7]\n",
    "f_heights = females.values[:, 5]\n",
    "m_armspan_length = males.values[:, 7]\n",
    "m_heights = males.values[:, 5]\n",
    "\n",
    "plt.scatter(f_armspan_length, f_heights, color='#e9a3c9', marker='o', label='Female')\n",
    "plt.scatter(m_armspan_length, m_heights, color='#91bfdb', marker='x', label='Male')\n",
    "plt.title('armspan_length and height from our student data')\n",
    "plt.xlabel('armspan_length (cm)')\n",
    "plt.ylabel('Height (cm)')\n",
    "plt.legend(loc='lower right')\n",
    "plt.show()"
   ]
  },
  {
   "cell_type": "code",
   "execution_count": 87,
   "metadata": {},
   "outputs": [
    {
     "data": {
      "image/png": "[encoded data removed]",
      "text/plain": [
       "<Figure size 432x288 with 1 Axes>"
      ]
     },
     "metadata": {
      "needs_background": "light"
     },
     "output_type": "display_data"
    }
   ],
   "source": [
    "#Part 2: Methodology of Analysis \n",
    "import pandas as pd\n",
    "import matplotlib.pyplot as plt\n",
    "\n",
    "df = pd.read_csv('/Users/linenzheng/Desktop/cleaned data/clean3.csv')\n",
    "females = df[df['Gender'] == 'Female']\n",
    "males = df[df['Gender'] == 'Male']\n",
    "f_armspan_length = females.values[:, 6]\n",
    "f_heights = females.values[:, 4]\n",
    "m_armspan_length = males.values[:, 6]\n",
    "m_heights = males.values[:, 4]\n",
    "\n",
    "plt.scatter(f_armspan_length, f_heights, color='#e9a3c9', marker='o', label='Female')\n",
    "plt.scatter(m_armspan_length, m_heights, color='#91bfdb', marker='x', label='Male')\n",
    "plt.title('armspan_length and height from our student data')\n",
    "plt.xlabel('armspan_length (cm)')\n",
    "plt.ylabel('Height (cm)')\n",
    "plt.legend(loc='lower right')\n",
    "plt.show()\n",
    "\n"
   ]
  },
  {
   "cell_type": "code",
   "execution_count": 24,
   "metadata": {},
   "outputs": [
    {
     "data": {
      "image/png": "[encoded data removed]",
      "text/plain": [
       "<Figure size 640x480 with 2 Axes>"
      ]
     },
     "metadata": {},
     "output_type": "display_data"
    },
    {
     "data": {
      "text/plain": [
       "<ggplot: (-9223372029301354927)>"
      ]
     },
     "execution_count": 24,
     "metadata": {},
     "output_type": "execute_result"
    }
   ],
   "source": [
    "#Part 2: Methodology of Analysis \n",
    "import numpy as np\n",
    "import pandas as pd\n",
    "from plotnine import *\n",
    "\n",
    "%matplotlib inline\n",
    "df = pd.read_csv(\"/Users/linenzheng/Desktop/cleaned data/clean1.csv\").dropna()\n",
    "df['Handedness']=df['Handedness'].replace({'Left-Handed': 'Non-Right', 'ambi':'right'})\n",
    "ggplot(df, aes(x='Ageyears', fill = 'Gender')) + \\\n",
    "    geom_bar(stat = 'count')  + \\\n",
    "    facet_wrap(['Handedness'])"
   ]
  },
  {
   "cell_type": "code",
   "execution_count": 17,
   "metadata": {},
   "outputs": [
    {
     "data": {
      "image/png": "[encoded data removed]",
      "text/plain": [
       "<Figure size 640x480 with 1 Axes>"
      ]
     },
     "metadata": {},
     "output_type": "display_data"
    },
    {
     "data": {
      "text/plain": [
       "<ggplot: (7552757189)>"
      ]
     },
     "execution_count": 17,
     "metadata": {},
     "output_type": "execute_result"
    }
   ],
   "source": [
    "#Part 2: Methodology of Analysis \n",
    "import numpy as np\n",
    "import pandas as pd\n",
    "from plotnine import *\n",
    "\n",
    "%matplotlib inline\n",
    "df = pd.read_csv(\"/Users/linenzheng/Desktop/cleaned data/clean2.csv\").dropna()\n",
    "df['Handed']=df['Handed'].replace({'Left-Handed': 'Non-Right', 'Ambidextrous':'Right-Handed'})\n",
    "ggplot(df, aes(x='Handed', fill = 'Gender')) + \\\n",
    "    geom_bar(stat = 'count')"
   ]
  },
  {
   "cell_type": "code",
   "execution_count": 18,
   "metadata": {},
   "outputs": [
    {
     "data": {
      "image/png": "[encoded data removed]",
      "text/plain": [
       "<Figure size 640x480 with 1 Axes>"
      ]
     },
     "metadata": {},
     "output_type": "display_data"
    },
    {
     "data": {
      "text/plain": [
       "<ggplot: (7553148080)>"
      ]
     },
     "execution_count": 18,
     "metadata": {},
     "output_type": "execute_result"
    }
   ],
   "source": [
    "#Part 2: Methodology of Analysis \n",
    "import numpy as np\n",
    "import pandas as pd\n",
    "from plotnine import *\n",
    "\n",
    "%matplotlib inline\n",
    "df = pd.read_csv(\"/Users/linenzheng/Desktop/cleaned data/clean3.csv\").dropna()\n",
    "df['Handed']=df['Handed'].replace({'Left-Handed': 'Non-Right', 'B':'Right-Handed'})\n",
    "ggplot(df, aes(x='Handed', fill = 'Gender')) + \\\n",
    "    geom_bar(stat = 'count')"
   ]
  },
  {
   "cell_type": "code",
   "execution_count": 25,
   "metadata": {},
   "outputs": [
    {
     "data": {
      "image/png": "[encoded data removed]",
      "text/plain": [
       "<Figure size 640x480 with 2 Axes>"
      ]
     },
     "metadata": {},
     "output_type": "display_data"
    },
    {
     "data": {
      "text/plain": [
       "<ggplot: (7553165530)>"
      ]
     },
     "execution_count": 25,
     "metadata": {},
     "output_type": "execute_result"
    }
   ],
   "source": [
    "#Part 2: Methodology of Analysis \n",
    "import numpy as np\n",
    "import pandas as pd\n",
    "from plotnine import *\n",
    "\n",
    "%matplotlib inline\n",
    "df = pd.read_csv(\"/Users/linenzheng/Desktop/cleaned data/clean1.csv\").dropna()\n",
    "df['Handedness']=df['Handedness'].replace({'Left-Handed': 'Non-Right', 'ambi':'right'})\n",
    "ggplot(df, aes(x='Ageyears', fill = 'Gender')) + \\\n",
    "    geom_bar(stat = 'count')  + \\\n",
    "    facet_wrap(['Handedness'])"
   ]
  },
  {
   "cell_type": "code",
   "execution_count": 27,
   "metadata": {},
   "outputs": [
    {
     "data": {
      "image/png": "[encoded data removed]",
      "text/plain": [
       "<Figure size 640x480 with 2 Axes>"
      ]
     },
     "metadata": {},
     "output_type": "display_data"
    },
    {
     "data": {
      "text/plain": [
       "<ggplot: (-9223372029301626894)>"
      ]
     },
     "execution_count": 27,
     "metadata": {},
     "output_type": "execute_result"
    }
   ],
   "source": [
    "#Part 2: Methodology of Analysis \n",
    "import numpy as np\n",
    "import pandas as pd\n",
    "from plotnine import *\n",
    "\n",
    "%matplotlib inline\n",
    "df = pd.read_csv(\"/Users/linenzheng/Desktop/cleaned data/clean2.csv\").dropna()\n",
    "df['Handed']=df['Handed'].replace({'Left-Handed': 'Non-Right', 'Ambidextrous':'Right-Handed'})\n",
    "ggplot(df, aes(x='Ageyears', fill = 'Gender')) + \\\n",
    "    geom_bar(stat = 'count') + \\\n",
    "    facet_wrap(['Handed'])"
   ]
  },
  {
   "cell_type": "code",
   "execution_count": 28,
   "metadata": {},
   "outputs": [
    {
     "data": {
      "image/png": "[encoded data removed]",
      "text/plain": [
       "<Figure size 640x480 with 2 Axes>"
      ]
     },
     "metadata": {},
     "output_type": "display_data"
    },
    {
     "data": {
      "text/plain": [
       "<ggplot: (-9223372029302755787)>"
      ]
     },
     "execution_count": 28,
     "metadata": {},
     "output_type": "execute_result"
    }
   ],
   "source": [
    "#Part 2: Methodology of Analysis \n",
    "import numpy as np\n",
    "import pandas as pd\n",
    "from plotnine import *\n",
    "\n",
    "%matplotlib inline\n",
    "df = pd.read_csv(\"/Users/linenzheng/Desktop/cleaned data/clean3.csv\").dropna()\n",
    "df['Handed']=df['Handed'].replace({'Left-Handed': 'Non-Right', 'B':'Right-Handed'})\n",
    "ggplot(df, aes(x='Ageyears', fill = 'Gender')) + \\\n",
    "    geom_bar(stat = 'count') + \\\n",
    "    facet_wrap(['Handed'])"
   ]
  },
  {
   "cell_type": "code",
   "execution_count": 61,
   "metadata": {},
   "outputs": [
    {
     "name": "stdout",
     "output_type": "stream",
     "text": [
      "----- Sample case -----\n",
      "Year: 12\n",
      "Ageyears: 18\n",
      "Foot_Length: 35\n",
      "Predicted students height: 191\n",
      "-----------------------\n",
      "Coefficients:\n",
      "[3.50431697 0.47758476 1.6581211 ]\n",
      "Root mean squared error (RMSE): 10.05200015213131\n",
      "R-squared score: 0.47845176582117566\n"
     ]
    }
   ],
   "source": [
    "#Part 3: Building predictive models\n",
    "import pandas as pd\n",
    "from math import sqrt\n",
    "from sklearn import linear_model\n",
    "from sklearn import metrics\n",
    "from sklearn.model_selection import train_test_split\n",
    "df = pd.read_csv(\"/Users/linenzheng/Desktop/cleaned data/clean1.csv\").dropna()\n",
    "X = df.values[:, 2:5]      # slice dataFrame for input variables\n",
    "y = df.values[:, 5]        # slice dataFrame for target variable\n",
    "X_train, X_test, y_train, y_test = train_test_split(X, y, test_size=0.1, random_state=42)\n",
    "regr = linear_model.LinearRegression().fit(X_train, y_train)\n",
    "# Let's create one sample and predict the height\n",
    "sample = [12, 18, 35]        # a sample with Year: 12 Ageyears: 18 Foot_Length: 35\n",
    "print('----- Sample case -----')\n",
    "for column, value in zip(list(df)[2:5], sample):\n",
    "    print(column + ': ' + str(value))\n",
    "sample_pred = regr.predict([sample])\n",
    "print('Predicted students height:', int(sample_pred))\n",
    "print('-----------------------')\n",
    "\n",
    "# The coefficients\n",
    "print('Coefficients:')\n",
    "print(regr.coef_)\n",
    "# Use the model to predict y from X_test\n",
    "y_pred = regr.predict(X_test)\n",
    "# Root mean squared error\n",
    "mse = metrics.mean_squared_error(y_test, y_pred)\n",
    "print('Root mean squared error (RMSE):', sqrt(mse))\n",
    "# R-squared score: 1 is perfect prediction\n",
    "print('R-squared score:', metrics.r2_score(y_test, y_pred))\n",
    "\n"
   ]
  },
  {
   "cell_type": "code",
   "execution_count": 64,
   "metadata": {},
   "outputs": [
    {
     "name": "stdout",
     "output_type": "stream",
     "text": [
      "----- Sample case -----\n",
      "Ageyears: 18\n",
      "Footlength_cm: 35\n",
      "Armspan_cm: 180\n",
      "Predicted students height: 185\n",
      "-----------------------\n",
      "Coefficients:\n",
      "[1.88144929 1.0527201  0.33158278]\n",
      "Root mean squared error (RMSE): 33.773323752874866\n",
      "R-squared score: 0.19733771502925535\n"
     ]
    }
   ],
   "source": [
    "#Part 3: Building predictive models\n",
    "import pandas as pd\n",
    "from math import sqrt\n",
    "from sklearn import linear_model\n",
    "from sklearn import metrics\n",
    "from sklearn.model_selection import train_test_split\n",
    "df = pd.read_csv(\"/Users/linenzheng/Desktop/cleaned data/clean2.csv\").dropna()\n",
    "X = df.values[:, 4:7]      # slice dataFrame for input variables\n",
    "y = df.values[:, 7]        # slice dataFrame for target variable\n",
    "X_train, X_test, y_train, y_test = train_test_split(X, y, test_size=0.1, random_state=42)\n",
    "regr = linear_model.LinearRegression().fit(X_train, y_train)\n",
    "# Let's create one sample and predict the height\n",
    "sample = [18, 35, 180]        # a sample with Ageyears: 18 Footlength_cm: 35 Armspan_cm: 180\n",
    "print('----- Sample case -----')\n",
    "for column, value in zip(list(df)[4:7], sample):\n",
    "    print(column + ': ' + str(value))\n",
    "sample_pred = regr.predict([sample])\n",
    "print('Predicted students height:', int(sample_pred))\n",
    "print('-----------------------')\n",
    "\n",
    "# The coefficients\n",
    "print('Coefficients:')\n",
    "print(regr.coef_)\n",
    "# Use the model to predict y from X_test\n",
    "y_pred = regr.predict(X_test)\n",
    "# Root mean squared error\n",
    "mse = metrics.mean_squared_error(y_test, y_pred)\n",
    "print('Root mean squared error (RMSE):', sqrt(mse))\n",
    "# R-squared score: 1 is perfect prediction\n",
    "print('R-squared score:', metrics.r2_score(y_test, y_pred))"
   ]
  },
  {
   "cell_type": "code",
   "execution_count": 54,
   "metadata": {},
   "outputs": [
    {
     "name": "stdout",
     "output_type": "stream",
     "text": [
      "----- Sample case -----\n",
      "Ageyears: 18\n",
      "Foot_Length: 35\n",
      "Arm_Span: 180\n",
      "Predicted students height: 183\n",
      "-----------------------\n",
      "Coefficients:\n",
      "[1.19262383 0.5293005  0.63223615]\n",
      "Root mean squared error (RMSE): 6.008497765784784\n",
      "R-squared score: 0.7611217945059753\n"
     ]
    }
   ],
   "source": [
    "#Part 3: Building predictive models\n",
    "import pandas as pd\n",
    "from math import sqrt\n",
    "from sklearn import linear_model\n",
    "from sklearn import metrics\n",
    "from sklearn.model_selection import train_test_split\n",
    "df = pd.read_csv(\"/Users/linenzheng/Desktop/cleaned data/clean3.csv\").dropna()\n",
    "X = df.values[:, 3:6]      # slice dataFrame for input variables\n",
    "y = df.values[:, 6]        # slice dataFrame for target variable\n",
    "X_train, X_test, y_train, y_test = train_test_split(X, y, test_size=0.1, random_state=42)\n",
    "regr = linear_model.LinearRegression().fit(X_train, y_train)\n",
    "# Let's create one sample and predict the height\n",
    "sample = [18, 35, 180]        # a sample with Ageyears: 18 Foot_Length: 35 Arm_Span: 180\n",
    "print('----- Sample case -----')\n",
    "for column, value in zip(list(df)[3:6], sample):\n",
    "    print(column + ': ' + str(value))\n",
    "sample_pred = regr.predict([sample])\n",
    "print('Predicted students height:', int(sample_pred))\n",
    "print('-----------------------')\n",
    "\n",
    "# The coefficients\n",
    "print('Coefficients:')\n",
    "print(regr.coef_)\n",
    "# Use the model to predict y from X_test\n",
    "y_pred = regr.predict(X_test)\n",
    "# Root mean squared error\n",
    "mse = metrics.mean_squared_error(y_test, y_pred)\n",
    "print('Root mean squared error (RMSE):', sqrt(mse))\n",
    "# R-squared score: 1 is perfect prediction\n",
    "print('R-squared score:', metrics.r2_score(y_test, y_pred))\n",
    "\n"
   ]
  },
  {
   "cell_type": "code",
   "execution_count": 9,
   "metadata": {},
   "outputs": [
    {
     "name": "stdout",
     "output_type": "stream",
     "text": [
      "----- Sample case -----\n",
      "Year: 12\n",
      "Ageyears: 18\n",
      "Foot_Length: 35\n",
      "Predicted height: 189\n",
      "-----------------------\n",
      "Root mean squared error (RMSE): 11.283767152985332\n",
      "R-squared score: 0.3427997232132389\n"
     ]
    }
   ],
   "source": [
    "#Part 3: Building predictive models\n",
    "import pandas as pd\n",
    "from math import sqrt\n",
    "from sklearn import metrics\n",
    "from sklearn import neighbors\n",
    "from sklearn.model_selection import train_test_split\n",
    "df = pd.read_csv(\"/Users/linenzheng/Desktop/cleaned data/clean1.csv\").dropna()\n",
    "X = df.values[:, 2:5]      # slice dataFrame for input variables\n",
    "y = df.values[:, 5]        # slice dataFrame for target variable\n",
    "X_train, X_test, y_train, y_test = train_test_split(X, y, test_size=0.1, random_state=42)\n",
    "neigh = neighbors.KNeighborsRegressor(n_neighbors=4).fit(X_train, y_train)\n",
    "# Let's create one sample and predict the height\n",
    "sample = [12, 18, 35]        # a sample with Year: 12 Ageyears: 18 Foot_Length: 35\n",
    "print('----- Sample case -----')\n",
    "for column, value in zip(list(df)[2:5], sample):\n",
    "    print(column + ': ' + str(value))\n",
    "sample_pred = neigh.predict([sample])\n",
    "print('Predicted height:', int(sample_pred))\n",
    "print('-----------------------')\n",
    "\n",
    "# Use the model to predict X_test\n",
    "y_pred = neigh.predict(X_test)\n",
    "# Root mean squared error\n",
    "mse = metrics.mean_squared_error(y_test, y_pred)\n",
    "print('Root mean squared error (RMSE):', sqrt(mse))\n",
    "# R-squared score: 1 is perfect prediction\n",
    "print('R-squared score:', metrics.r2_score(y_test, y_pred))\n",
    "\n"
   ]
  },
  {
   "cell_type": "code",
   "execution_count": 7,
   "metadata": {},
   "outputs": [
    {
     "name": "stdout",
     "output_type": "stream",
     "text": [
      "----- Sample case -----\n",
      "Ageyears: 18\n",
      "Footlength_cm: 35\n",
      "Armspan_cm: 180\n",
      "Predicted height: 178\n",
      "-----------------------\n",
      "Root mean squared error (RMSE): 33.11118853879475\n",
      "R-squared score: 0.22850202395057007\n"
     ]
    }
   ],
   "source": [
    "#Part 3: Building predictive models\n",
    "import pandas as pd\n",
    "from math import sqrt\n",
    "from sklearn import metrics\n",
    "from sklearn import neighbors\n",
    "from sklearn.model_selection import train_test_split\n",
    "df = pd.read_csv(\"/Users/linenzheng/Desktop/cleaned data/clean2.csv\").dropna()\n",
    "X = df.values[:, 4:7]      # slice dataFrame for input variables\n",
    "y = df.values[:, 7]        # slice dataFrame for target variable\n",
    "X_train, X_test, y_train, y_test = train_test_split(X, y, test_size=0.1, random_state=42)\n",
    "neigh = neighbors.KNeighborsRegressor(n_neighbors=4).fit(X_train, y_train)\n",
    "# Let's create one sample and predict the height\n",
    "sample = [18, 35, 180]        # a sample with Ageyears: 18 Footlength_cm: 35 Armspan_cm: 180\n",
    "print('----- Sample case -----')\n",
    "for column, value in zip(list(df)[4:7], sample):\n",
    " print(column + ': ' + str(value))\n",
    "sample_pred = neigh.predict([sample])\n",
    "print('Predicted height:', int(sample_pred))\n",
    "print('-----------------------')\n",
    "\n",
    "# Use the model to predict X_test\n",
    "y_pred = neigh.predict(X_test)\n",
    "# Root mean squared error\n",
    "mse = metrics.mean_squared_error(y_test, y_pred)\n",
    "print('Root mean squared error (RMSE):', sqrt(mse))\n",
    "# R-squared score: 1 is perfect prediction\n",
    "print('R-squared score:', metrics.r2_score(y_test, y_pred))\n",
    "\n",
    "\n"
   ]
  },
  {
   "cell_type": "code",
   "execution_count": 8,
   "metadata": {},
   "outputs": [
    {
     "name": "stdout",
     "output_type": "stream",
     "text": [
      "----- Sample case -----\n",
      "Ageyears: 18\n",
      "Foot_Length: 35\n",
      "Arm_Span: 180\n",
      "Predicted height: 182\n",
      "-----------------------\n",
      "Root mean squared error (RMSE): 8.23976638018336\n",
      "R-squared score: 0.5507640361115742\n"
     ]
    }
   ],
   "source": [
    "#Part 3: Building predictive models\n",
    "import pandas as pd\n",
    "from math import sqrt\n",
    "from sklearn import metrics\n",
    "from sklearn import neighbors\n",
    "from sklearn.model_selection import train_test_split\n",
    "df = pd.read_csv(\"/Users/linenzheng/Desktop/cleaned data/clean3.csv\").dropna()\n",
    "X = df.values[:, 3:6]      # slice dataFrame for input variables\n",
    "y = df.values[:, 6]        # slice dataFrame for target variable\n",
    "X_train, X_test, y_train, y_test = train_test_split(X, y, test_size=0.1, random_state=42)\n",
    "neigh = neighbors.KNeighborsRegressor(n_neighbors=4).fit(X_train, y_train)\n",
    "# Let's create one sample and predict the height\n",
    "sample = [18, 35, 180]        # a sample with Ageyears: 18 Foot_Length: 35 Arm_Span: 180\n",
    "print('----- Sample case -----')\n",
    "for column, value in zip(list(df)[3:6], sample):\n",
    " print(column + ': ' + str(value))\n",
    "sample_pred = neigh.predict([sample])\n",
    "print('Predicted height:', int(sample_pred))\n",
    "print('-----------------------')\n",
    "\n",
    "# Use the model to predict X_test\n",
    "y_pred = neigh.predict(X_test)\n",
    "# Root mean squared error\n",
    "mse = metrics.mean_squared_error(y_test, y_pred)\n",
    "print('Root mean squared error (RMSE):', sqrt(mse))\n",
    "# R-squared score: 1 is perfect prediction\n",
    "print('R-squared score:', metrics.r2_score(y_test, y_pred))\n"
   ]
  },
  {
   "cell_type": "code",
   "execution_count": 19,
   "metadata": {},
   "outputs": [
    {
     "name": "stdout",
     "output_type": "stream",
     "text": [
      "----- Sample case -----\n",
      "Year: 12\n",
      "Ageyears: 18\n",
      "Foot_Length: 35\n",
      "Predicted height: 156\n",
      "-----------------------\n",
      "Root mean squared error (RMSE): 13.974998213697376\n",
      "R-squared score: -0.008075427001686286\n"
     ]
    }
   ],
   "source": [
    "#Part 3: Building predictive models\n",
    "import pandas as pd\n",
    "from math import sqrt\n",
    "from sklearn.neural_network import MLPRegressor\n",
    "from sklearn import metrics\n",
    "from sklearn import neighbors\n",
    "from sklearn.model_selection import train_test_split\n",
    "df = pd.read_csv(\"/Users/linenzheng/Desktop/cleaned data/clean1.csv\").dropna()\n",
    "X = df.values[:, 2:5]      # slice dataFrame for input variables\n",
    "y = df.values[:, 5]        # slice dataFrame for target variable\n",
    "X_train, X_test, y_train, y_test = train_test_split(X, y, test_size=0.1, random_state=42)\n",
    "clf = MLPRegressor(solver='lbfgs',alpha=1e-5,hidden_layer_sizes=(2,2),random_state=1)\n",
    "clf.fit(X_train, y_train)\n",
    "# Let's create one sample and predict the height\n",
    "sample = [12, 18, 35]        # a sample with Year: 12 Ageyears: 18 Foot_Length: 35\n",
    "print('----- Sample case -----')\n",
    "for column, value in zip(list(df)[2:5], sample):\n",
    "    print(column + ': ' + str(value))\n",
    "sample_pred = clf.predict([sample])\n",
    "print('Predicted height:', int(sample_pred))\n",
    "print('-----------------------')\n",
    "\n",
    "# Use the model to predict X_test\n",
    "y_pred = clf.predict(X_test)\n",
    "# Root mean squared error\n",
    "mse = metrics.mean_squared_error(y_test, y_pred)\n",
    "print('Root mean squared error (RMSE):', sqrt(mse))\n",
    "# R-squared score: 1 is perfect prediction\n",
    "print('R-squared score:', metrics.r2_score(y_test, y_pred))"
   ]
  },
  {
   "cell_type": "code",
   "execution_count": 22,
   "metadata": {},
   "outputs": [
    {
     "name": "stdout",
     "output_type": "stream",
     "text": [
      "----- Sample case -----\n",
      "Ageyears: 12\n",
      "Footlength_cm: 30\n",
      "Armspan_cm: 185\n",
      "Predicted height: 160\n",
      "-----------------------\n",
      "Root mean squared error (RMSE): 41.43754704874461\n",
      "R-squared score: -0.20829597385095622\n"
     ]
    }
   ],
   "source": [
    "#Part 3: Building predictive models\n",
    "import pandas as pd\n",
    "from math import sqrt\n",
    "from sklearn.neural_network import MLPRegressor\n",
    "from sklearn import metrics\n",
    "from sklearn import neighbors\n",
    "from sklearn.model_selection import train_test_split\n",
    "df = pd.read_csv(\"/Users/linenzheng/Desktop/cleaned data/clean2.csv\").dropna()\n",
    "X = df.values[:, 4:7]      # slice dataFrame for input variables\n",
    "y = df.values[:, 7]        # slice dataFrame for target variable\n",
    "X_train, X_test, y_train, y_test = train_test_split(X, y, test_size=0.1, random_state=42)\n",
    "clf = MLPRegressor(solver='lbfgs',alpha=1e-5,hidden_layer_sizes=(2,2),random_state=1)\n",
    "clf.fit(X_train, y_train)\n",
    "# Let's create one sample and predict the height\n",
    "sample = [12, 30, 185]        # a sample with Year: 12 Ageyears: 18 Foot_Length: 35\n",
    "print('----- Sample case -----')\n",
    "for column, value in zip(list(df)[4:7], sample):\n",
    "    print(column + ': ' + str(value))\n",
    "sample_pred = clf.predict([sample])\n",
    "print('Predicted height:', int(sample_pred))\n",
    "print('-----------------------')\n",
    "\n",
    "# Use the model to predict X_test\n",
    "y_pred = clf.predict(X_test)\n",
    "# Root mean squared error\n",
    "mse = metrics.mean_squared_error(y_test, y_pred)\n",
    "print('Root mean squared error (RMSE):', sqrt(mse))\n",
    "# R-squared score: 1 is perfect prediction\n",
    "print('R-squared score:', metrics.r2_score(y_test, y_pred))"
   ]
  },
  {
   "cell_type": "code",
   "execution_count": 24,
   "metadata": {},
   "outputs": [
    {
     "name": "stdout",
     "output_type": "stream",
     "text": [
      "----- Sample case -----\n",
      "Ageyears: 18\n",
      "Foot_Length: 35\n",
      "Arm_Span: 180\n",
      "Predicted height: 158\n",
      "-----------------------\n",
      "Root mean squared error (RMSE): 12.297908127734427\n",
      "R-squared score: -0.0007076238073076002\n"
     ]
    }
   ],
   "source": [
    "#Part 3: Building predictive models\n",
    "import pandas as pd\n",
    "from math import sqrt\n",
    "from sklearn.neural_network import MLPRegressor\n",
    "from sklearn import metrics\n",
    "from sklearn import neighbors\n",
    "from sklearn.model_selection import train_test_split\n",
    "df = pd.read_csv(\"/Users/linenzheng/Desktop/cleaned data/clean3.csv\").dropna()\n",
    "X = df.values[:, 3:6]      # slice dataFrame for input variables\n",
    "y = df.values[:, 6]        # slice dataFrame for target variable\n",
    "X_train, X_test, y_train, y_test = train_test_split(X, y, test_size=0.1, random_state=42)\n",
    "clf = MLPRegressor(solver='lbfgs',alpha=1e-5,hidden_layer_sizes=(2,2),random_state=1)\n",
    "clf.fit(X_train, y_train)\n",
    "# Let's create one sample and predict the height\n",
    "sample = [18, 35, 180]        # a sample with Year: 12 Ageyears: 18 Foot_Length: 35\n",
    "print('----- Sample case -----')\n",
    "for column, value in zip(list(df)[3:6], sample):\n",
    "    print(column + ': ' + str(value))\n",
    "sample_pred = clf.predict([sample])\n",
    "print('Predicted height:', int(sample_pred))\n",
    "print('-----------------------')\n",
    "\n",
    "# Use the model to predict X_test\n",
    "y_pred = clf.predict(X_test)\n",
    "# Root mean squared error\n",
    "mse = metrics.mean_squared_error(y_test, y_pred)\n",
    "print('Root mean squared error (RMSE):', sqrt(mse))\n",
    "# R-squared score: 1 is perfect prediction\n",
    "print('R-squared score:', metrics.r2_score(y_test, y_pred))"
   ]
  },
  {
   "cell_type": "code",
   "execution_count": null,
   "metadata": {},
   "outputs": [],
   "source": []
  }
 ],
 "metadata": {
  "kernelspec": {
   "display_name": "Python 3",
   "language": "python",
   "name": "python3"
  },
  "language_info": {
   "codemirror_mode": {
    "name": "ipython",
    "version": 3
   },
   "file_extension": ".py",
   "mimetype": "text/x-python",
   "name": "python",
   "nbconvert_exporter": "python",
   "pygments_lexer": "ipython3",
   "version": "3.7.3"
  }
 },
 "nbformat": 4,
 "nbformat_minor": 2
}
